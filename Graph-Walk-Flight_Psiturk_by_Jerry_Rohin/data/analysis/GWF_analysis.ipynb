{
 "cells": [
  {
   "cell_type": "code",
   "execution_count": 23,
   "metadata": {},
   "outputs": [
    {
     "name": "stdout",
     "output_type": "stream",
     "text": [
      "Reading: S_Kirthin V. Rajkumar_2011_243.csv\n",
      "Reading: final_S_ .csv\n"
     ]
    }
   ],
   "source": [
    "import numpy as np\n",
    "import matplotlib.pyplot as plt\n",
    "import csv\n",
    "import os\n",
    "import pandas as pd\n",
    "\n",
    "folder_path = \"/Users/rohinpalsule/Documents/GitHub/GraphWalkFlights/Graph-Walk-Flight_Psiturk_by_Jerry_Rohin/data\"\n",
    "\n",
    "df_list = []\n",
    "\n",
    "# Iterate through all CSV files in the folder\n",
    "for file in os.listdir(folder_path):\n",
    "    if file.endswith(\".csv\"):  # Check if the file is a CSV\n",
    "        file_path = os.path.join(folder_path, file)\n",
    "        print(f\"Reading: {file}\")\n",
    "        try:\n",
    "            df_individual = pd.read_csv(file_path, on_bad_lines='skip')\n",
    "            df_list.append(df_individual)\n",
    "        except Exception as e:\n",
    "            print(f\"Error reading {file}: {e}\")\n",
    "\n",
    "# Concatenate all DataFrames\n",
    "df = pd.concat(df_list, ignore_index=True)\n"
   ]
  },
  {
   "cell_type": "code",
   "execution_count": 53,
   "metadata": {},
   "outputs": [],
   "source": [
    "# Adding partid from worker id\n",
    "\n",
    "df['partid'] = df['responses'].str.replace('{worker_id:',\"\").str.replace('}', '').str.replace(\"Kirthin V. Rajkumar\",\"Kirthin\") # for clarity\n",
    "df.loc[df['partid'] == ' ', 'partid'] = 'Rayan' # Replacing id \" \" w his name\n",
    "df['partid'] = df['partid'].ffill()"
   ]
  },
  {
   "cell_type": "code",
   "execution_count": null,
   "metadata": {},
   "outputs": [],
   "source": []
  },
  {
   "cell_type": "code",
   "execution_count": 83,
   "metadata": {},
   "outputs": [
    {
     "data": {
      "text/plain": [
       "(np.float64(0.5714285714285714), np.float64(0.40625))"
      ]
     },
     "execution_count": 83,
     "metadata": {},
     "output_type": "execute_result"
    }
   ],
   "source": [
    "# Direct Memory df\n",
    "\n",
    "direct_df = df[df['trial_type']=='directmemory_phase']\n",
    "\n",
    "direct_df = direct_df.loc[:, ~direct_df.isna().all()]\n",
    "direct_df = direct_df.drop(columns=['time_elapsed','cumulative_accuracy','weighted_accuracy','missedtrial']).reset_index(drop='index')\n",
    "direct_df = direct_df.map(lambda x: x.replace('../static/images/US_Cities_List/', '') if isinstance(x, str) else x)\n",
    "\n",
    "def get_chosen_city(row):\n",
    "    if  row['key_press'] == 49:\n",
    "        return row['stimulus_down_left']\n",
    "    elif  row['key_press'] == 50:\n",
    "        return row['stimulus_down_mid']\n",
    "    elif  row['key_press'] == 51:\n",
    "        return row['stimulus_down_right']\n",
    "    else: return pd.NA\n",
    "\n",
    "def get_wrong_distance(row):\n",
    "    if pd.isna(row['stimulus_selected']):\n",
    "        return pd.NA\n",
    "    elif row['stimulus_selected'] == row['stimulus_short']:\n",
    "        return 'close'\n",
    "    elif row['stimulus_selected'] == row['stimulus_far']:\n",
    "        return 'far'\n",
    "    elif row['stimulus_selected'] == row['stimulus_correct']:\n",
    "        return 'correct'\n",
    "    else: return pd.NA\n",
    "\n",
    "def get_weighted_correct(row):\n",
    "    if pd.isna(row['wrong_distance']):\n",
    "        return pd.NA\n",
    "    elif row['wrong_distance'] == 'close':\n",
    "        return 0.5\n",
    "    elif row['wrong_distance'] == 'far':\n",
    "        return 0\n",
    "    elif row['wrong_distance'] == 'correct':\n",
    "        return 1\n",
    "    else: return pd.NA\n",
    "\n",
    "direct_df['stimulus_selected'] = direct_df.apply(get_chosen_city,axis=1)\n",
    "direct_df['wrong_distance'] = direct_df.apply(get_wrong_distance,axis=1)\n",
    "direct_df['weighted_correct'] = direct_df.apply(get_weighted_correct,axis=1)\n",
    "direct_df['weighted_correct'].mean(),direct_df['accuracy'].mean()"
   ]
  }
 ],
 "metadata": {
  "kernelspec": {
   "display_name": "venv",
   "language": "python",
   "name": "python3"
  },
  "language_info": {
   "codemirror_mode": {
    "name": "ipython",
    "version": 3
   },
   "file_extension": ".py",
   "mimetype": "text/x-python",
   "name": "python",
   "nbconvert_exporter": "python",
   "pygments_lexer": "ipython3",
   "version": "3.11.7"
  }
 },
 "nbformat": 4,
 "nbformat_minor": 2
}
